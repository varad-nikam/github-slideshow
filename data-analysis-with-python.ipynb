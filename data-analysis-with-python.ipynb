{
 "cells": [
  {
   "cell_type": "code",
   "execution_count": 1,
   "id": "systematic-messaging",
   "metadata": {
    "_cell_guid": "b1076dfc-b9ad-4769-8c92-a6c4dae69d19",
    "_uuid": "8f2839f25d086af736a60e9eeb907d3b93b6e0e5",
    "execution": {
     "iopub.execute_input": "2021-06-07T14:36:04.069230Z",
     "iopub.status.busy": "2021-06-07T14:36:04.068182Z",
     "iopub.status.idle": "2021-06-07T14:36:04.084098Z",
     "shell.execute_reply": "2021-06-07T14:36:04.084618Z",
     "shell.execute_reply.started": "2021-06-07T14:27:08.179327Z"
    },
    "papermill": {
     "duration": 0.058894,
     "end_time": "2021-06-07T14:36:04.084922",
     "exception": false,
     "start_time": "2021-06-07T14:36:04.026028",
     "status": "completed"
    },
    "tags": []
   },
   "outputs": [
    {
     "name": "stdout",
     "output_type": "stream",
     "text": [
      "/kaggle/input/housesalesprediction/kc_house_data.csv\n"
     ]
    }
   ],
   "source": [
    "# This Python 3 environment comes with many helpful analytics libraries installed\n",
    "# It is defined by the kaggle/python Docker image: https://github.com/kaggle/docker-python\n",
    "# For example, here's several helpful packages to load\n",
    "\n",
    "import numpy as np # linear algebra\n",
    "import pandas as pd # data processing, CSV file I/O (e.g. pd.read_csv)\n",
    "\n",
    "# Input data files are available in the read-only \"../input/\" directory\n",
    "# For example, running this (by clicking run or pressing Shift+Enter) will list all files under the input directory\n",
    "\n",
    "import os\n",
    "for dirname, _, filenames in os.walk('/kaggle/input'):\n",
    "    for filename in filenames:\n",
    "        print(os.path.join(dirname, filename))\n",
    "\n",
    "# You can write up to 20GB to the current directory (/kaggle/working/) that gets preserved as output when you create a version using \"Save & Run All\" \n",
    "# You can also write temporary files to /kaggle/temp/, but they won't be saved outside of the current session"
   ]
  },
  {
   "cell_type": "code",
   "execution_count": 2,
   "id": "median-liquid",
   "metadata": {
    "execution": {
     "iopub.execute_input": "2021-06-07T14:36:04.164323Z",
     "iopub.status.busy": "2021-06-07T14:36:04.163679Z",
     "iopub.status.idle": "2021-06-07T14:36:04.307732Z",
     "shell.execute_reply": "2021-06-07T14:36:04.308186Z",
     "shell.execute_reply.started": "2021-06-07T14:27:08.192669Z"
    },
    "papermill": {
     "duration": 0.186067,
     "end_time": "2021-06-07T14:36:04.308364",
     "exception": false,
     "start_time": "2021-06-07T14:36:04.122297",
     "status": "completed"
    },
    "tags": []
   },
   "outputs": [
    {
     "data": {
      "text/html": [
       "<div>\n",
       "<style scoped>\n",
       "    .dataframe tbody tr th:only-of-type {\n",
       "        vertical-align: middle;\n",
       "    }\n",
       "\n",
       "    .dataframe tbody tr th {\n",
       "        vertical-align: top;\n",
       "    }\n",
       "\n",
       "    .dataframe thead th {\n",
       "        text-align: right;\n",
       "    }\n",
       "</style>\n",
       "<table border=\"1\" class=\"dataframe\">\n",
       "  <thead>\n",
       "    <tr style=\"text-align: right;\">\n",
       "      <th></th>\n",
       "      <th>id</th>\n",
       "      <th>date</th>\n",
       "      <th>price</th>\n",
       "      <th>bedrooms</th>\n",
       "      <th>bathrooms</th>\n",
       "      <th>sqft_living</th>\n",
       "      <th>sqft_lot</th>\n",
       "      <th>floors</th>\n",
       "      <th>waterfront</th>\n",
       "      <th>view</th>\n",
       "      <th>...</th>\n",
       "      <th>grade</th>\n",
       "      <th>sqft_above</th>\n",
       "      <th>sqft_basement</th>\n",
       "      <th>yr_built</th>\n",
       "      <th>yr_renovated</th>\n",
       "      <th>zipcode</th>\n",
       "      <th>lat</th>\n",
       "      <th>long</th>\n",
       "      <th>sqft_living15</th>\n",
       "      <th>sqft_lot15</th>\n",
       "    </tr>\n",
       "  </thead>\n",
       "  <tbody>\n",
       "    <tr>\n",
       "      <th>0</th>\n",
       "      <td>7129300520</td>\n",
       "      <td>20141013T000000</td>\n",
       "      <td>221900.0</td>\n",
       "      <td>3</td>\n",
       "      <td>1.00</td>\n",
       "      <td>1180</td>\n",
       "      <td>5650</td>\n",
       "      <td>1.0</td>\n",
       "      <td>0</td>\n",
       "      <td>0</td>\n",
       "      <td>...</td>\n",
       "      <td>7</td>\n",
       "      <td>1180</td>\n",
       "      <td>0</td>\n",
       "      <td>1955</td>\n",
       "      <td>0</td>\n",
       "      <td>98178</td>\n",
       "      <td>47.5112</td>\n",
       "      <td>-122.257</td>\n",
       "      <td>1340</td>\n",
       "      <td>5650</td>\n",
       "    </tr>\n",
       "    <tr>\n",
       "      <th>1</th>\n",
       "      <td>6414100192</td>\n",
       "      <td>20141209T000000</td>\n",
       "      <td>538000.0</td>\n",
       "      <td>3</td>\n",
       "      <td>2.25</td>\n",
       "      <td>2570</td>\n",
       "      <td>7242</td>\n",
       "      <td>2.0</td>\n",
       "      <td>0</td>\n",
       "      <td>0</td>\n",
       "      <td>...</td>\n",
       "      <td>7</td>\n",
       "      <td>2170</td>\n",
       "      <td>400</td>\n",
       "      <td>1951</td>\n",
       "      <td>1991</td>\n",
       "      <td>98125</td>\n",
       "      <td>47.7210</td>\n",
       "      <td>-122.319</td>\n",
       "      <td>1690</td>\n",
       "      <td>7639</td>\n",
       "    </tr>\n",
       "    <tr>\n",
       "      <th>2</th>\n",
       "      <td>5631500400</td>\n",
       "      <td>20150225T000000</td>\n",
       "      <td>180000.0</td>\n",
       "      <td>2</td>\n",
       "      <td>1.00</td>\n",
       "      <td>770</td>\n",
       "      <td>10000</td>\n",
       "      <td>1.0</td>\n",
       "      <td>0</td>\n",
       "      <td>0</td>\n",
       "      <td>...</td>\n",
       "      <td>6</td>\n",
       "      <td>770</td>\n",
       "      <td>0</td>\n",
       "      <td>1933</td>\n",
       "      <td>0</td>\n",
       "      <td>98028</td>\n",
       "      <td>47.7379</td>\n",
       "      <td>-122.233</td>\n",
       "      <td>2720</td>\n",
       "      <td>8062</td>\n",
       "    </tr>\n",
       "    <tr>\n",
       "      <th>3</th>\n",
       "      <td>2487200875</td>\n",
       "      <td>20141209T000000</td>\n",
       "      <td>604000.0</td>\n",
       "      <td>4</td>\n",
       "      <td>3.00</td>\n",
       "      <td>1960</td>\n",
       "      <td>5000</td>\n",
       "      <td>1.0</td>\n",
       "      <td>0</td>\n",
       "      <td>0</td>\n",
       "      <td>...</td>\n",
       "      <td>7</td>\n",
       "      <td>1050</td>\n",
       "      <td>910</td>\n",
       "      <td>1965</td>\n",
       "      <td>0</td>\n",
       "      <td>98136</td>\n",
       "      <td>47.5208</td>\n",
       "      <td>-122.393</td>\n",
       "      <td>1360</td>\n",
       "      <td>5000</td>\n",
       "    </tr>\n",
       "    <tr>\n",
       "      <th>4</th>\n",
       "      <td>1954400510</td>\n",
       "      <td>20150218T000000</td>\n",
       "      <td>510000.0</td>\n",
       "      <td>3</td>\n",
       "      <td>2.00</td>\n",
       "      <td>1680</td>\n",
       "      <td>8080</td>\n",
       "      <td>1.0</td>\n",
       "      <td>0</td>\n",
       "      <td>0</td>\n",
       "      <td>...</td>\n",
       "      <td>8</td>\n",
       "      <td>1680</td>\n",
       "      <td>0</td>\n",
       "      <td>1987</td>\n",
       "      <td>0</td>\n",
       "      <td>98074</td>\n",
       "      <td>47.6168</td>\n",
       "      <td>-122.045</td>\n",
       "      <td>1800</td>\n",
       "      <td>7503</td>\n",
       "    </tr>\n",
       "  </tbody>\n",
       "</table>\n",
       "<p>5 rows × 21 columns</p>\n",
       "</div>"
      ],
      "text/plain": [
       "           id             date     price  bedrooms  bathrooms  sqft_living  \\\n",
       "0  7129300520  20141013T000000  221900.0         3       1.00         1180   \n",
       "1  6414100192  20141209T000000  538000.0         3       2.25         2570   \n",
       "2  5631500400  20150225T000000  180000.0         2       1.00          770   \n",
       "3  2487200875  20141209T000000  604000.0         4       3.00         1960   \n",
       "4  1954400510  20150218T000000  510000.0         3       2.00         1680   \n",
       "\n",
       "   sqft_lot  floors  waterfront  view  ...  grade  sqft_above  sqft_basement  \\\n",
       "0      5650     1.0           0     0  ...      7        1180              0   \n",
       "1      7242     2.0           0     0  ...      7        2170            400   \n",
       "2     10000     1.0           0     0  ...      6         770              0   \n",
       "3      5000     1.0           0     0  ...      7        1050            910   \n",
       "4      8080     1.0           0     0  ...      8        1680              0   \n",
       "\n",
       "   yr_built  yr_renovated  zipcode      lat     long  sqft_living15  \\\n",
       "0      1955             0    98178  47.5112 -122.257           1340   \n",
       "1      1951          1991    98125  47.7210 -122.319           1690   \n",
       "2      1933             0    98028  47.7379 -122.233           2720   \n",
       "3      1965             0    98136  47.5208 -122.393           1360   \n",
       "4      1987             0    98074  47.6168 -122.045           1800   \n",
       "\n",
       "   sqft_lot15  \n",
       "0        5650  \n",
       "1        7639  \n",
       "2        8062  \n",
       "3        5000  \n",
       "4        7503  \n",
       "\n",
       "[5 rows x 21 columns]"
      ]
     },
     "execution_count": 2,
     "metadata": {},
     "output_type": "execute_result"
    }
   ],
   "source": [
    "house = pd.read_csv('../input/housesalesprediction/kc_house_data.csv')\n",
    "house.head()"
   ]
  },
  {
   "cell_type": "markdown",
   "id": "automatic-texture",
   "metadata": {
    "papermill": {
     "duration": 0.037566,
     "end_time": "2021-06-07T14:36:04.384155",
     "exception": false,
     "start_time": "2021-06-07T14:36:04.346589",
     "status": "completed"
    },
    "tags": []
   },
   "source": [
    "# Question 1) Display the data types of each column using the attribute dtypes, then take a screenshot and submit it, include your code in the image."
   ]
  },
  {
   "cell_type": "code",
   "execution_count": 3,
   "id": "tutorial-newton",
   "metadata": {
    "execution": {
     "iopub.execute_input": "2021-06-07T14:36:04.462581Z",
     "iopub.status.busy": "2021-06-07T14:36:04.461642Z",
     "iopub.status.idle": "2021-06-07T14:36:04.468910Z",
     "shell.execute_reply": "2021-06-07T14:36:04.469447Z",
     "shell.execute_reply.started": "2021-06-07T14:27:08.275270Z"
    },
    "papermill": {
     "duration": 0.048264,
     "end_time": "2021-06-07T14:36:04.469628",
     "exception": false,
     "start_time": "2021-06-07T14:36:04.421364",
     "status": "completed"
    },
    "tags": []
   },
   "outputs": [
    {
     "data": {
      "text/plain": [
       "id                 int64\n",
       "date              object\n",
       "price            float64\n",
       "bedrooms           int64\n",
       "bathrooms        float64\n",
       "sqft_living        int64\n",
       "sqft_lot           int64\n",
       "floors           float64\n",
       "waterfront         int64\n",
       "view               int64\n",
       "condition          int64\n",
       "grade              int64\n",
       "sqft_above         int64\n",
       "sqft_basement      int64\n",
       "yr_built           int64\n",
       "yr_renovated       int64\n",
       "zipcode            int64\n",
       "lat              float64\n",
       "long             float64\n",
       "sqft_living15      int64\n",
       "sqft_lot15         int64\n",
       "dtype: object"
      ]
     },
     "execution_count": 3,
     "metadata": {},
     "output_type": "execute_result"
    }
   ],
   "source": [
    "house.dtypes"
   ]
  },
  {
   "cell_type": "markdown",
   "id": "korean-publication",
   "metadata": {
    "papermill": {
     "duration": 0.037897,
     "end_time": "2021-06-07T14:36:04.546256",
     "exception": false,
     "start_time": "2021-06-07T14:36:04.508359",
     "status": "completed"
    },
    "tags": []
   },
   "source": [
    "# Question 2) Drop the columns \"id\" and \"Unnamed: 0\" from axis 1 using the method drop(), then use the method describe() to obtain a statistical summary of the data. Take a screenshot and submit it, make sure the inplace parameter is set to True. Your output should look like this:"
   ]
  },
  {
   "cell_type": "code",
   "execution_count": 4,
   "id": "interesting-negotiation",
   "metadata": {
    "execution": {
     "iopub.execute_input": "2021-06-07T14:36:04.626263Z",
     "iopub.status.busy": "2021-06-07T14:36:04.625571Z",
     "iopub.status.idle": "2021-06-07T14:36:04.631542Z",
     "shell.execute_reply": "2021-06-07T14:36:04.632018Z",
     "shell.execute_reply.started": "2021-06-07T14:27:08.289001Z"
    },
    "papermill": {
     "duration": 0.047823,
     "end_time": "2021-06-07T14:36:04.632185",
     "exception": false,
     "start_time": "2021-06-07T14:36:04.584362",
     "status": "completed"
    },
    "tags": []
   },
   "outputs": [],
   "source": [
    "house.drop('id',axis=1,inplace=True)"
   ]
  },
  {
   "cell_type": "code",
   "execution_count": 5,
   "id": "electronic-express",
   "metadata": {
    "execution": {
     "iopub.execute_input": "2021-06-07T14:36:04.711421Z",
     "iopub.status.busy": "2021-06-07T14:36:04.710789Z",
     "iopub.status.idle": "2021-06-07T14:36:04.790568Z",
     "shell.execute_reply": "2021-06-07T14:36:04.791085Z",
     "shell.execute_reply.started": "2021-06-07T14:27:08.300083Z"
    },
    "papermill": {
     "duration": 0.121484,
     "end_time": "2021-06-07T14:36:04.791257",
     "exception": false,
     "start_time": "2021-06-07T14:36:04.669773",
     "status": "completed"
    },
    "tags": []
   },
   "outputs": [
    {
     "data": {
      "text/html": [
       "<div>\n",
       "<style scoped>\n",
       "    .dataframe tbody tr th:only-of-type {\n",
       "        vertical-align: middle;\n",
       "    }\n",
       "\n",
       "    .dataframe tbody tr th {\n",
       "        vertical-align: top;\n",
       "    }\n",
       "\n",
       "    .dataframe thead th {\n",
       "        text-align: right;\n",
       "    }\n",
       "</style>\n",
       "<table border=\"1\" class=\"dataframe\">\n",
       "  <thead>\n",
       "    <tr style=\"text-align: right;\">\n",
       "      <th></th>\n",
       "      <th>price</th>\n",
       "      <th>bedrooms</th>\n",
       "      <th>bathrooms</th>\n",
       "      <th>sqft_living</th>\n",
       "      <th>sqft_lot</th>\n",
       "      <th>floors</th>\n",
       "      <th>waterfront</th>\n",
       "      <th>view</th>\n",
       "      <th>condition</th>\n",
       "      <th>grade</th>\n",
       "      <th>sqft_above</th>\n",
       "      <th>sqft_basement</th>\n",
       "      <th>yr_built</th>\n",
       "      <th>yr_renovated</th>\n",
       "      <th>zipcode</th>\n",
       "      <th>lat</th>\n",
       "      <th>long</th>\n",
       "      <th>sqft_living15</th>\n",
       "      <th>sqft_lot15</th>\n",
       "    </tr>\n",
       "  </thead>\n",
       "  <tbody>\n",
       "    <tr>\n",
       "      <th>count</th>\n",
       "      <td>2.161300e+04</td>\n",
       "      <td>21613.000000</td>\n",
       "      <td>21613.000000</td>\n",
       "      <td>21613.000000</td>\n",
       "      <td>2.161300e+04</td>\n",
       "      <td>21613.000000</td>\n",
       "      <td>21613.000000</td>\n",
       "      <td>21613.000000</td>\n",
       "      <td>21613.000000</td>\n",
       "      <td>21613.000000</td>\n",
       "      <td>21613.000000</td>\n",
       "      <td>21613.000000</td>\n",
       "      <td>21613.000000</td>\n",
       "      <td>21613.000000</td>\n",
       "      <td>21613.000000</td>\n",
       "      <td>21613.000000</td>\n",
       "      <td>21613.000000</td>\n",
       "      <td>21613.000000</td>\n",
       "      <td>21613.000000</td>\n",
       "    </tr>\n",
       "    <tr>\n",
       "      <th>mean</th>\n",
       "      <td>5.400881e+05</td>\n",
       "      <td>3.370842</td>\n",
       "      <td>2.114757</td>\n",
       "      <td>2079.899736</td>\n",
       "      <td>1.510697e+04</td>\n",
       "      <td>1.494309</td>\n",
       "      <td>0.007542</td>\n",
       "      <td>0.234303</td>\n",
       "      <td>3.409430</td>\n",
       "      <td>7.656873</td>\n",
       "      <td>1788.390691</td>\n",
       "      <td>291.509045</td>\n",
       "      <td>1971.005136</td>\n",
       "      <td>84.402258</td>\n",
       "      <td>98077.939805</td>\n",
       "      <td>47.560053</td>\n",
       "      <td>-122.213896</td>\n",
       "      <td>1986.552492</td>\n",
       "      <td>12768.455652</td>\n",
       "    </tr>\n",
       "    <tr>\n",
       "      <th>std</th>\n",
       "      <td>3.671272e+05</td>\n",
       "      <td>0.930062</td>\n",
       "      <td>0.770163</td>\n",
       "      <td>918.440897</td>\n",
       "      <td>4.142051e+04</td>\n",
       "      <td>0.539989</td>\n",
       "      <td>0.086517</td>\n",
       "      <td>0.766318</td>\n",
       "      <td>0.650743</td>\n",
       "      <td>1.175459</td>\n",
       "      <td>828.090978</td>\n",
       "      <td>442.575043</td>\n",
       "      <td>29.373411</td>\n",
       "      <td>401.679240</td>\n",
       "      <td>53.505026</td>\n",
       "      <td>0.138564</td>\n",
       "      <td>0.140828</td>\n",
       "      <td>685.391304</td>\n",
       "      <td>27304.179631</td>\n",
       "    </tr>\n",
       "    <tr>\n",
       "      <th>min</th>\n",
       "      <td>7.500000e+04</td>\n",
       "      <td>0.000000</td>\n",
       "      <td>0.000000</td>\n",
       "      <td>290.000000</td>\n",
       "      <td>5.200000e+02</td>\n",
       "      <td>1.000000</td>\n",
       "      <td>0.000000</td>\n",
       "      <td>0.000000</td>\n",
       "      <td>1.000000</td>\n",
       "      <td>1.000000</td>\n",
       "      <td>290.000000</td>\n",
       "      <td>0.000000</td>\n",
       "      <td>1900.000000</td>\n",
       "      <td>0.000000</td>\n",
       "      <td>98001.000000</td>\n",
       "      <td>47.155900</td>\n",
       "      <td>-122.519000</td>\n",
       "      <td>399.000000</td>\n",
       "      <td>651.000000</td>\n",
       "    </tr>\n",
       "    <tr>\n",
       "      <th>25%</th>\n",
       "      <td>3.219500e+05</td>\n",
       "      <td>3.000000</td>\n",
       "      <td>1.750000</td>\n",
       "      <td>1427.000000</td>\n",
       "      <td>5.040000e+03</td>\n",
       "      <td>1.000000</td>\n",
       "      <td>0.000000</td>\n",
       "      <td>0.000000</td>\n",
       "      <td>3.000000</td>\n",
       "      <td>7.000000</td>\n",
       "      <td>1190.000000</td>\n",
       "      <td>0.000000</td>\n",
       "      <td>1951.000000</td>\n",
       "      <td>0.000000</td>\n",
       "      <td>98033.000000</td>\n",
       "      <td>47.471000</td>\n",
       "      <td>-122.328000</td>\n",
       "      <td>1490.000000</td>\n",
       "      <td>5100.000000</td>\n",
       "    </tr>\n",
       "    <tr>\n",
       "      <th>50%</th>\n",
       "      <td>4.500000e+05</td>\n",
       "      <td>3.000000</td>\n",
       "      <td>2.250000</td>\n",
       "      <td>1910.000000</td>\n",
       "      <td>7.618000e+03</td>\n",
       "      <td>1.500000</td>\n",
       "      <td>0.000000</td>\n",
       "      <td>0.000000</td>\n",
       "      <td>3.000000</td>\n",
       "      <td>7.000000</td>\n",
       "      <td>1560.000000</td>\n",
       "      <td>0.000000</td>\n",
       "      <td>1975.000000</td>\n",
       "      <td>0.000000</td>\n",
       "      <td>98065.000000</td>\n",
       "      <td>47.571800</td>\n",
       "      <td>-122.230000</td>\n",
       "      <td>1840.000000</td>\n",
       "      <td>7620.000000</td>\n",
       "    </tr>\n",
       "    <tr>\n",
       "      <th>75%</th>\n",
       "      <td>6.450000e+05</td>\n",
       "      <td>4.000000</td>\n",
       "      <td>2.500000</td>\n",
       "      <td>2550.000000</td>\n",
       "      <td>1.068800e+04</td>\n",
       "      <td>2.000000</td>\n",
       "      <td>0.000000</td>\n",
       "      <td>0.000000</td>\n",
       "      <td>4.000000</td>\n",
       "      <td>8.000000</td>\n",
       "      <td>2210.000000</td>\n",
       "      <td>560.000000</td>\n",
       "      <td>1997.000000</td>\n",
       "      <td>0.000000</td>\n",
       "      <td>98118.000000</td>\n",
       "      <td>47.678000</td>\n",
       "      <td>-122.125000</td>\n",
       "      <td>2360.000000</td>\n",
       "      <td>10083.000000</td>\n",
       "    </tr>\n",
       "    <tr>\n",
       "      <th>max</th>\n",
       "      <td>7.700000e+06</td>\n",
       "      <td>33.000000</td>\n",
       "      <td>8.000000</td>\n",
       "      <td>13540.000000</td>\n",
       "      <td>1.651359e+06</td>\n",
       "      <td>3.500000</td>\n",
       "      <td>1.000000</td>\n",
       "      <td>4.000000</td>\n",
       "      <td>5.000000</td>\n",
       "      <td>13.000000</td>\n",
       "      <td>9410.000000</td>\n",
       "      <td>4820.000000</td>\n",
       "      <td>2015.000000</td>\n",
       "      <td>2015.000000</td>\n",
       "      <td>98199.000000</td>\n",
       "      <td>47.777600</td>\n",
       "      <td>-121.315000</td>\n",
       "      <td>6210.000000</td>\n",
       "      <td>871200.000000</td>\n",
       "    </tr>\n",
       "  </tbody>\n",
       "</table>\n",
       "</div>"
      ],
      "text/plain": [
       "              price      bedrooms     bathrooms   sqft_living      sqft_lot  \\\n",
       "count  2.161300e+04  21613.000000  21613.000000  21613.000000  2.161300e+04   \n",
       "mean   5.400881e+05      3.370842      2.114757   2079.899736  1.510697e+04   \n",
       "std    3.671272e+05      0.930062      0.770163    918.440897  4.142051e+04   \n",
       "min    7.500000e+04      0.000000      0.000000    290.000000  5.200000e+02   \n",
       "25%    3.219500e+05      3.000000      1.750000   1427.000000  5.040000e+03   \n",
       "50%    4.500000e+05      3.000000      2.250000   1910.000000  7.618000e+03   \n",
       "75%    6.450000e+05      4.000000      2.500000   2550.000000  1.068800e+04   \n",
       "max    7.700000e+06     33.000000      8.000000  13540.000000  1.651359e+06   \n",
       "\n",
       "             floors    waterfront          view     condition         grade  \\\n",
       "count  21613.000000  21613.000000  21613.000000  21613.000000  21613.000000   \n",
       "mean       1.494309      0.007542      0.234303      3.409430      7.656873   \n",
       "std        0.539989      0.086517      0.766318      0.650743      1.175459   \n",
       "min        1.000000      0.000000      0.000000      1.000000      1.000000   \n",
       "25%        1.000000      0.000000      0.000000      3.000000      7.000000   \n",
       "50%        1.500000      0.000000      0.000000      3.000000      7.000000   \n",
       "75%        2.000000      0.000000      0.000000      4.000000      8.000000   \n",
       "max        3.500000      1.000000      4.000000      5.000000     13.000000   \n",
       "\n",
       "         sqft_above  sqft_basement      yr_built  yr_renovated       zipcode  \\\n",
       "count  21613.000000   21613.000000  21613.000000  21613.000000  21613.000000   \n",
       "mean    1788.390691     291.509045   1971.005136     84.402258  98077.939805   \n",
       "std      828.090978     442.575043     29.373411    401.679240     53.505026   \n",
       "min      290.000000       0.000000   1900.000000      0.000000  98001.000000   \n",
       "25%     1190.000000       0.000000   1951.000000      0.000000  98033.000000   \n",
       "50%     1560.000000       0.000000   1975.000000      0.000000  98065.000000   \n",
       "75%     2210.000000     560.000000   1997.000000      0.000000  98118.000000   \n",
       "max     9410.000000    4820.000000   2015.000000   2015.000000  98199.000000   \n",
       "\n",
       "                lat          long  sqft_living15     sqft_lot15  \n",
       "count  21613.000000  21613.000000   21613.000000   21613.000000  \n",
       "mean      47.560053   -122.213896    1986.552492   12768.455652  \n",
       "std        0.138564      0.140828     685.391304   27304.179631  \n",
       "min       47.155900   -122.519000     399.000000     651.000000  \n",
       "25%       47.471000   -122.328000    1490.000000    5100.000000  \n",
       "50%       47.571800   -122.230000    1840.000000    7620.000000  \n",
       "75%       47.678000   -122.125000    2360.000000   10083.000000  \n",
       "max       47.777600   -121.315000    6210.000000  871200.000000  "
      ]
     },
     "execution_count": 5,
     "metadata": {},
     "output_type": "execute_result"
    }
   ],
   "source": [
    "house.describe()"
   ]
  },
  {
   "cell_type": "markdown",
   "id": "located-factor",
   "metadata": {
    "papermill": {
     "duration": 0.03852,
     "end_time": "2021-06-07T14:36:04.869247",
     "exception": false,
     "start_time": "2021-06-07T14:36:04.830727",
     "status": "completed"
    },
    "tags": []
   },
   "source": [
    "# Question 3) use the method value_counts to count the number of houses with unique floor values, use the method .to_frame() to convert it to a dataframe. Your output should look like this :"
   ]
  },
  {
   "cell_type": "code",
   "execution_count": 6,
   "id": "listed-pollution",
   "metadata": {
    "execution": {
     "iopub.execute_input": "2021-06-07T14:36:04.955159Z",
     "iopub.status.busy": "2021-06-07T14:36:04.954463Z",
     "iopub.status.idle": "2021-06-07T14:36:04.959990Z",
     "shell.execute_reply": "2021-06-07T14:36:04.960498Z",
     "shell.execute_reply.started": "2021-06-07T14:27:08.384956Z"
    },
    "papermill": {
     "duration": 0.053106,
     "end_time": "2021-06-07T14:36:04.960654",
     "exception": false,
     "start_time": "2021-06-07T14:36:04.907548",
     "status": "completed"
    },
    "tags": []
   },
   "outputs": [
    {
     "data": {
      "text/plain": [
       "1.0    10680\n",
       "2.0     8241\n",
       "1.5     1910\n",
       "3.0      613\n",
       "2.5      161\n",
       "3.5        8\n",
       "Name: floors, dtype: int64"
      ]
     },
     "execution_count": 6,
     "metadata": {},
     "output_type": "execute_result"
    }
   ],
   "source": [
    "house.floors.value_counts()"
   ]
  },
  {
   "cell_type": "markdown",
   "id": "eight-mexican",
   "metadata": {
    "papermill": {
     "duration": 0.03845,
     "end_time": "2021-06-07T14:36:05.038092",
     "exception": false,
     "start_time": "2021-06-07T14:36:04.999642",
     "status": "completed"
    },
    "tags": []
   },
   "source": [
    "# Question 4) use the function boxplot in the seaborn library to produce a plot that can be used to determine whether houses with a waterfront view or without a waterfront view have more price outliers. Your output should look like this with the code that produced it (the colors may be different ) :"
   ]
  },
  {
   "cell_type": "code",
   "execution_count": 7,
   "id": "equipped-hampton",
   "metadata": {
    "execution": {
     "iopub.execute_input": "2021-06-07T14:36:05.118570Z",
     "iopub.status.busy": "2021-06-07T14:36:05.117988Z",
     "iopub.status.idle": "2021-06-07T14:36:05.930259Z",
     "shell.execute_reply": "2021-06-07T14:36:05.930850Z",
     "shell.execute_reply.started": "2021-06-07T14:27:08.395220Z"
    },
    "papermill": {
     "duration": 0.853999,
     "end_time": "2021-06-07T14:36:05.931038",
     "exception": false,
     "start_time": "2021-06-07T14:36:05.077039",
     "status": "completed"
    },
    "tags": []
   },
   "outputs": [],
   "source": [
    "import seaborn as sns\n",
    "import matplotlib.pyplot as plt\n"
   ]
  },
  {
   "cell_type": "code",
   "execution_count": 8,
   "id": "familiar-desperate",
   "metadata": {
    "execution": {
     "iopub.execute_input": "2021-06-07T14:36:06.013611Z",
     "iopub.status.busy": "2021-06-07T14:36:06.012995Z",
     "iopub.status.idle": "2021-06-07T14:36:06.199134Z",
     "shell.execute_reply": "2021-06-07T14:36:06.199621Z",
     "shell.execute_reply.started": "2021-06-07T14:27:08.782973Z"
    },
    "papermill": {
     "duration": 0.228087,
     "end_time": "2021-06-07T14:36:06.199825",
     "exception": false,
     "start_time": "2021-06-07T14:36:05.971738",
     "status": "completed"
    },
    "tags": []
   },
   "outputs": [
    {
     "data": {
      "image/png": "[encoded data removed]",
      "text/plain": [
       "<Figure size 1080x360 with 1 Axes>"
      ]
     },
     "metadata": {
      "needs_background": "light"
     },
     "output_type": "display_data"
    }
   ],
   "source": [
    "plt.figure(figsize=[15,5])\n",
    "sns.boxplot(data=house,x='waterfront',y='price');"
   ]
  },
  {
   "cell_type": "markdown",
   "id": "appreciated-clock",
   "metadata": {
    "papermill": {
     "duration": 0.038836,
     "end_time": "2021-06-07T14:36:06.281060",
     "exception": false,
     "start_time": "2021-06-07T14:36:06.242224",
     "status": "completed"
    },
    "tags": []
   },
   "source": [
    "# Question 5) Use the function regplot in the seaborn library to determine if the feature sqft_above is negatively or positively correlated with price. Take a screenshot of the plot and the code used to generate it."
   ]
  },
  {
   "cell_type": "code",
   "execution_count": 9,
   "id": "inclusive-football",
   "metadata": {
    "execution": {
     "iopub.execute_input": "2021-06-07T14:36:06.363630Z",
     "iopub.status.busy": "2021-06-07T14:36:06.363069Z",
     "iopub.status.idle": "2021-06-07T14:36:07.783294Z",
     "shell.execute_reply": "2021-06-07T14:36:07.782688Z",
     "shell.execute_reply.started": "2021-06-07T14:27:08.940309Z"
    },
    "papermill": {
     "duration": 1.462634,
     "end_time": "2021-06-07T14:36:07.783430",
     "exception": false,
     "start_time": "2021-06-07T14:36:06.320796",
     "status": "completed"
    },
    "tags": []
   },
   "outputs": [
    {
     "data": {
      "image/png": "[encoded data removed]",
      "text/plain": [
       "<Figure size 1080x360 with 1 Axes>"
      ]
     },
     "metadata": {
      "needs_background": "light"
     },
     "output_type": "display_data"
    }
   ],
   "source": [
    "plt.figure(figsize=[15,5])\n",
    "sns.regplot(data=house,x='sqft_above',y='price');"
   ]
  },
  {
   "cell_type": "markdown",
   "id": "extreme-blues",
   "metadata": {
    "papermill": {
     "duration": 0.041602,
     "end_time": "2021-06-07T14:36:07.868453",
     "exception": false,
     "start_time": "2021-06-07T14:36:07.826851",
     "status": "completed"
    },
    "tags": []
   },
   "source": [
    "# Question 6) Fit a linear regression model to predict the price using the feature 'sqft_living' then calculate the R^2. Take a screenshot of your code and the value of the R^2. "
   ]
  },
  {
   "cell_type": "code",
   "execution_count": 10,
   "id": "occupied-prophet",
   "metadata": {
    "execution": {
     "iopub.execute_input": "2021-06-07T14:36:07.959065Z",
     "iopub.status.busy": "2021-06-07T14:36:07.958415Z",
     "iopub.status.idle": "2021-06-07T14:36:08.251123Z",
     "shell.execute_reply": "2021-06-07T14:36:08.250394Z",
     "shell.execute_reply.started": "2021-06-07T14:27:10.339941Z"
    },
    "papermill": {
     "duration": 0.339229,
     "end_time": "2021-06-07T14:36:08.251262",
     "exception": false,
     "start_time": "2021-06-07T14:36:07.912033",
     "status": "completed"
    },
    "tags": []
   },
   "outputs": [],
   "source": [
    "import numpy as np\n",
    "from sklearn.linear_model import LinearRegression"
   ]
  },
  {
   "cell_type": "code",
   "execution_count": 11,
   "id": "expired-alloy",
   "metadata": {
    "execution": {
     "iopub.execute_input": "2021-06-07T14:36:08.340002Z",
     "iopub.status.busy": "2021-06-07T14:36:08.339183Z",
     "iopub.status.idle": "2021-06-07T14:36:08.341731Z",
     "shell.execute_reply": "2021-06-07T14:36:08.342194Z",
     "shell.execute_reply.started": "2021-06-07T14:27:10.428768Z"
    },
    "papermill": {
     "duration": 0.049465,
     "end_time": "2021-06-07T14:36:08.342370",
     "exception": false,
     "start_time": "2021-06-07T14:36:08.292905",
     "status": "completed"
    },
    "tags": []
   },
   "outputs": [],
   "source": [
    "X = np.array(house['sqft_living']).reshape((-1, 1))\n",
    "y = np.array(house.price)"
   ]
  },
  {
   "cell_type": "code",
   "execution_count": 12,
   "id": "stretch-dialogue",
   "metadata": {
    "execution": {
     "iopub.execute_input": "2021-06-07T14:36:08.427960Z",
     "iopub.status.busy": "2021-06-07T14:36:08.427067Z",
     "iopub.status.idle": "2021-06-07T14:36:08.429223Z",
     "shell.execute_reply": "2021-06-07T14:36:08.429789Z",
     "shell.execute_reply.started": "2021-06-07T14:27:10.435488Z"
    },
    "papermill": {
     "duration": 0.047596,
     "end_time": "2021-06-07T14:36:08.429968",
     "exception": false,
     "start_time": "2021-06-07T14:36:08.382372",
     "status": "completed"
    },
    "tags": []
   },
   "outputs": [],
   "source": [
    "model = LinearRegression()"
   ]
  },
  {
   "cell_type": "code",
   "execution_count": 13,
   "id": "exceptional-secretary",
   "metadata": {
    "execution": {
     "iopub.execute_input": "2021-06-07T14:36:08.516269Z",
     "iopub.status.busy": "2021-06-07T14:36:08.515496Z",
     "iopub.status.idle": "2021-06-07T14:36:08.552010Z",
     "shell.execute_reply": "2021-06-07T14:36:08.552539Z",
     "shell.execute_reply.started": "2021-06-07T14:27:10.447617Z"
    },
    "papermill": {
     "duration": 0.082489,
     "end_time": "2021-06-07T14:36:08.552712",
     "exception": false,
     "start_time": "2021-06-07T14:36:08.470223",
     "status": "completed"
    },
    "tags": []
   },
   "outputs": [
    {
     "data": {
      "text/plain": [
       "LinearRegression()"
      ]
     },
     "execution_count": 13,
     "metadata": {},
     "output_type": "execute_result"
    }
   ],
   "source": [
    "model.fit(X,y)"
   ]
  },
  {
   "cell_type": "code",
   "execution_count": 14,
   "id": "olympic-husband",
   "metadata": {
    "execution": {
     "iopub.execute_input": "2021-06-07T14:36:08.642142Z",
     "iopub.status.busy": "2021-06-07T14:36:08.641340Z",
     "iopub.status.idle": "2021-06-07T14:36:08.645860Z",
     "shell.execute_reply": "2021-06-07T14:36:08.646420Z",
     "shell.execute_reply.started": "2021-06-07T14:27:10.466871Z"
    },
    "papermill": {
     "duration": 0.05162,
     "end_time": "2021-06-07T14:36:08.646601",
     "exception": false,
     "start_time": "2021-06-07T14:36:08.594981",
     "status": "completed"
    },
    "tags": []
   },
   "outputs": [
    {
     "name": "stdout",
     "output_type": "stream",
     "text": [
      "coefficient of determination: 0.4928532179037931\n"
     ]
    }
   ],
   "source": [
    "r_sq = model.score(X, y)\n",
    "print('coefficient of determination:', r_sq)"
   ]
  },
  {
   "cell_type": "code",
   "execution_count": 15,
   "id": "sustained-opportunity",
   "metadata": {
    "execution": {
     "iopub.execute_input": "2021-06-07T14:36:08.735418Z",
     "iopub.status.busy": "2021-06-07T14:36:08.734760Z",
     "iopub.status.idle": "2021-06-07T14:36:08.737368Z",
     "shell.execute_reply": "2021-06-07T14:36:08.737813Z",
     "shell.execute_reply.started": "2021-06-07T14:27:10.478413Z"
    },
    "papermill": {
     "duration": 0.050229,
     "end_time": "2021-06-07T14:36:08.738002",
     "exception": false,
     "start_time": "2021-06-07T14:36:08.687773",
     "status": "completed"
    },
    "tags": []
   },
   "outputs": [
    {
     "name": "stdout",
     "output_type": "stream",
     "text": [
      "intercept: -43580.74309447396\n"
     ]
    }
   ],
   "source": [
    "print('intercept:', model.intercept_)"
   ]
  },
  {
   "cell_type": "code",
   "execution_count": 16,
   "id": "mathematical-roulette",
   "metadata": {
    "execution": {
     "iopub.execute_input": "2021-06-07T14:36:08.824307Z",
     "iopub.status.busy": "2021-06-07T14:36:08.823675Z",
     "iopub.status.idle": "2021-06-07T14:36:08.830758Z",
     "shell.execute_reply": "2021-06-07T14:36:08.829929Z",
     "shell.execute_reply.started": "2021-06-07T14:27:10.488188Z"
    },
    "papermill": {
     "duration": 0.051329,
     "end_time": "2021-06-07T14:36:08.830953",
     "exception": false,
     "start_time": "2021-06-07T14:36:08.779624",
     "status": "completed"
    },
    "tags": []
   },
   "outputs": [
    {
     "name": "stdout",
     "output_type": "stream",
     "text": [
      "slope: [280.6235679]\n"
     ]
    }
   ],
   "source": [
    "print('slope:', model.coef_)"
   ]
  },
  {
   "cell_type": "code",
   "execution_count": 17,
   "id": "pointed-interpretation",
   "metadata": {
    "execution": {
     "iopub.execute_input": "2021-06-07T14:36:08.923334Z",
     "iopub.status.busy": "2021-06-07T14:36:08.922272Z",
     "iopub.status.idle": "2021-06-07T14:36:08.927410Z",
     "shell.execute_reply": "2021-06-07T14:36:08.926804Z",
     "shell.execute_reply.started": "2021-06-07T14:27:10.501445Z"
    },
    "papermill": {
     "duration": 0.052819,
     "end_time": "2021-06-07T14:36:08.927545",
     "exception": false,
     "start_time": "2021-06-07T14:36:08.874726",
     "status": "completed"
    },
    "tags": []
   },
   "outputs": [],
   "source": [
    "new_model = LinearRegression().fit(X, y.reshape((-1, 1)))"
   ]
  },
  {
   "cell_type": "code",
   "execution_count": 18,
   "id": "intellectual-tolerance",
   "metadata": {
    "execution": {
     "iopub.execute_input": "2021-06-07T14:36:09.019680Z",
     "iopub.status.busy": "2021-06-07T14:36:09.019053Z",
     "iopub.status.idle": "2021-06-07T14:36:09.022232Z",
     "shell.execute_reply": "2021-06-07T14:36:09.022811Z",
     "shell.execute_reply.started": "2021-06-07T14:27:10.514176Z"
    },
    "papermill": {
     "duration": 0.051469,
     "end_time": "2021-06-07T14:36:09.023029",
     "exception": false,
     "start_time": "2021-06-07T14:36:08.971560",
     "status": "completed"
    },
    "tags": []
   },
   "outputs": [
    {
     "name": "stdout",
     "output_type": "stream",
     "text": [
      "intercept: [-43580.74309447]\n",
      "slope: [[280.6235679]]\n"
     ]
    }
   ],
   "source": [
    "print('intercept:', new_model.intercept_)\n",
    "print('slope:', new_model.coef_)"
   ]
  },
  {
   "cell_type": "code",
   "execution_count": 19,
   "id": "rapid-fantasy",
   "metadata": {
    "execution": {
     "iopub.execute_input": "2021-06-07T14:36:09.113693Z",
     "iopub.status.busy": "2021-06-07T14:36:09.113123Z",
     "iopub.status.idle": "2021-06-07T14:36:09.120198Z",
     "shell.execute_reply": "2021-06-07T14:36:09.120862Z",
     "shell.execute_reply.started": "2021-06-07T14:27:10.529435Z"
    },
    "papermill": {
     "duration": 0.055269,
     "end_time": "2021-06-07T14:36:09.121078",
     "exception": false,
     "start_time": "2021-06-07T14:36:09.065809",
     "status": "completed"
    },
    "tags": []
   },
   "outputs": [
    {
     "name": "stdout",
     "output_type": "stream",
     "text": [
      "predicted response:\n",
      "[[287555.06702451]\n",
      " [677621.82640197]\n",
      " [172499.40418656]\n",
      " ...\n",
      " [242655.29616092]\n",
      " [405416.96554144]\n",
      " [242655.29616092]]\n"
     ]
    }
   ],
   "source": [
    "y_pred = new_model.predict(X)\n",
    "print('predicted response:', y_pred, sep='\\n')"
   ]
  },
  {
   "cell_type": "markdown",
   "id": "initial-knowing",
   "metadata": {
    "papermill": {
     "duration": 0.043648,
     "end_time": "2021-06-07T14:36:09.209819",
     "exception": false,
     "start_time": "2021-06-07T14:36:09.166171",
     "status": "completed"
    },
    "tags": []
   },
   "source": [
    "# Question 7) Fit a linear regression model to predict the 'price' using the list of features:\n",
    "\n",
    "\"floors\"\n",
    "\"waterfront\"\n",
    "\"lat\"\n",
    "\"bedrooms\"\n",
    "\"sqft_basement\"\n",
    "\"view\"\n",
    "\"bathrooms\"\n",
    "\"sqft_living15\"\n",
    "\"sqft_above\"\n",
    "\"grade\"\n",
    "\"sqft_living\"\n",
    "The calculate the R^2. Take a screenshot of your code and the value of the R^2."
   ]
  },
  {
   "cell_type": "code",
   "execution_count": 20,
   "id": "blocked-stanley",
   "metadata": {
    "execution": {
     "iopub.execute_input": "2021-06-07T14:36:09.305346Z",
     "iopub.status.busy": "2021-06-07T14:36:09.304652Z",
     "iopub.status.idle": "2021-06-07T14:36:09.313293Z",
     "shell.execute_reply": "2021-06-07T14:36:09.313721Z",
     "shell.execute_reply.started": "2021-06-07T14:27:10.540854Z"
    },
    "papermill": {
     "duration": 0.060625,
     "end_time": "2021-06-07T14:36:09.313906",
     "exception": false,
     "start_time": "2021-06-07T14:36:09.253281",
     "status": "completed"
    },
    "tags": []
   },
   "outputs": [],
   "source": [
    "X = np.array(house[['sqft_living','floors','bedrooms','sqft_basement','view','bathrooms','sqft_living15',\n",
    "                    'sqft_above','grade','waterfront','lat']])\n",
    "y = np.array(house.price)"
   ]
  },
  {
   "cell_type": "code",
   "execution_count": 21,
   "id": "static-villa",
   "metadata": {
    "execution": {
     "iopub.execute_input": "2021-06-07T14:36:09.408013Z",
     "iopub.status.busy": "2021-06-07T14:36:09.406725Z",
     "iopub.status.idle": "2021-06-07T14:36:09.417131Z",
     "shell.execute_reply": "2021-06-07T14:36:09.417960Z",
     "shell.execute_reply.started": "2021-06-07T14:27:10.558906Z"
    },
    "papermill": {
     "duration": 0.059956,
     "end_time": "2021-06-07T14:36:09.418254",
     "exception": false,
     "start_time": "2021-06-07T14:36:09.358298",
     "status": "completed"
    },
    "tags": []
   },
   "outputs": [],
   "source": [
    "model = LinearRegression().fit(X, y)"
   ]
  },
  {
   "cell_type": "code",
   "execution_count": 22,
   "id": "wooden-minutes",
   "metadata": {
    "execution": {
     "iopub.execute_input": "2021-06-07T14:36:09.554570Z",
     "iopub.status.busy": "2021-06-07T14:36:09.553960Z",
     "iopub.status.idle": "2021-06-07T14:36:09.565904Z",
     "shell.execute_reply": "2021-06-07T14:36:09.566748Z",
     "shell.execute_reply.started": "2021-06-07T14:27:10.584805Z"
    },
    "papermill": {
     "duration": 0.072889,
     "end_time": "2021-06-07T14:36:09.567006",
     "exception": false,
     "start_time": "2021-06-07T14:36:09.494117",
     "status": "completed"
    },
    "tags": []
   },
   "outputs": [
    {
     "name": "stdout",
     "output_type": "stream",
     "text": [
      "coefficient of determination: 0.6577151058279325\n",
      "\n",
      "intercept: -32393033.998162005\n",
      "\n",
      "slope: [ 1.29402390e+02 -2.93506755e+04 -2.58576191e+04  6.44649626e+01\n",
      "  6.70524927e+04 -3.47249675e+03  4.31579036e+00  6.49374277e+01\n",
      "  8.21667080e+04  6.02163807e+05  6.73032296e+05]\n"
     ]
    }
   ],
   "source": [
    "r_sq = model.score(X, y)\n",
    "print('coefficient of determination:', r_sq)\n",
    "print()\n",
    "print('intercept:', model.intercept_)\n",
    "print()\n",
    "print('slope:', model.coef_)"
   ]
  },
  {
   "cell_type": "code",
   "execution_count": 23,
   "id": "competent-election",
   "metadata": {
    "execution": {
     "iopub.execute_input": "2021-06-07T14:36:09.707178Z",
     "iopub.status.busy": "2021-06-07T14:36:09.706154Z",
     "iopub.status.idle": "2021-06-07T14:36:09.713615Z",
     "shell.execute_reply": "2021-06-07T14:36:09.714628Z",
     "shell.execute_reply.started": "2021-06-07T14:27:10.606429Z"
    },
    "papermill": {
     "duration": 0.06797,
     "end_time": "2021-06-07T14:36:09.714901",
     "exception": false,
     "start_time": "2021-06-07T14:36:09.646931",
     "status": "completed"
    },
    "tags": []
   },
   "outputs": [
    {
     "name": "stdout",
     "output_type": "stream",
     "text": [
      "predicted response:\n",
      "[283413.0766304  662377.8434901  305956.87442554 ... 304309.00758747\n",
      " 428626.84540507 304107.09789879]\n"
     ]
    }
   ],
   "source": [
    "y_pred = model.predict(X)\n",
    "print('predicted response:', y_pred, sep='\\n')"
   ]
  },
  {
   "cell_type": "markdown",
   "id": "seeing-resolution",
   "metadata": {
    "papermill": {
     "duration": 0.056185,
     "end_time": "2021-06-07T14:36:09.846868",
     "exception": false,
     "start_time": "2021-06-07T14:36:09.790683",
     "status": "completed"
    },
    "tags": []
   },
   "source": [
    "# Question 8) Create a pipeline object that scales the data performs a polynomial transform and fits a linear regression model. Fit the object using the features in the question above, then fit the model and calculate the R^2. Take a screenshot of your code and the R^2."
   ]
  },
  {
   "cell_type": "code",
   "execution_count": 24,
   "id": "opening-voltage",
   "metadata": {
    "execution": {
     "iopub.execute_input": "2021-06-07T14:36:09.938358Z",
     "iopub.status.busy": "2021-06-07T14:36:09.937287Z",
     "iopub.status.idle": "2021-06-07T14:36:09.940380Z",
     "shell.execute_reply": "2021-06-07T14:36:09.939718Z",
     "shell.execute_reply.started": "2021-06-07T14:27:10.619518Z"
    },
    "papermill": {
     "duration": 0.050401,
     "end_time": "2021-06-07T14:36:09.940513",
     "exception": false,
     "start_time": "2021-06-07T14:36:09.890112",
     "status": "completed"
    },
    "tags": []
   },
   "outputs": [],
   "source": [
    "from sklearn.preprocessing import PolynomialFeatures"
   ]
  },
  {
   "cell_type": "code",
   "execution_count": 25,
   "id": "fewer-package",
   "metadata": {
    "execution": {
     "iopub.execute_input": "2021-06-07T14:36:10.032224Z",
     "iopub.status.busy": "2021-06-07T14:36:10.031087Z",
     "iopub.status.idle": "2021-06-07T14:36:10.068757Z",
     "shell.execute_reply": "2021-06-07T14:36:10.069239Z",
     "shell.execute_reply.started": "2021-06-07T14:27:10.628619Z"
    },
    "papermill": {
     "duration": 0.084653,
     "end_time": "2021-06-07T14:36:10.069419",
     "exception": false,
     "start_time": "2021-06-07T14:36:09.984766",
     "status": "completed"
    },
    "tags": []
   },
   "outputs": [],
   "source": [
    "X = np.array(house[['sqft_living','floors','bedrooms','sqft_basement','view','bathrooms','sqft_living15',\n",
    "                    'sqft_above','grade','waterfront','lat']])\n",
    "y = np.array(house.price)\n",
    "X_ = PolynomialFeatures(degree=2, include_bias=False).fit_transform(X)"
   ]
  },
  {
   "cell_type": "code",
   "execution_count": 26,
   "id": "coordinate-packet",
   "metadata": {
    "execution": {
     "iopub.execute_input": "2021-06-07T14:36:10.158127Z",
     "iopub.status.busy": "2021-06-07T14:36:10.157169Z",
     "iopub.status.idle": "2021-06-07T14:36:10.260801Z",
     "shell.execute_reply": "2021-06-07T14:36:10.261670Z",
     "shell.execute_reply.started": "2021-06-07T14:27:10.707358Z"
    },
    "papermill": {
     "duration": 0.149667,
     "end_time": "2021-06-07T14:36:10.261942",
     "exception": false,
     "start_time": "2021-06-07T14:36:10.112275",
     "status": "completed"
    },
    "tags": []
   },
   "outputs": [],
   "source": [
    "model = LinearRegression().fit(X_, y)"
   ]
  },
  {
   "cell_type": "code",
   "execution_count": 27,
   "id": "acknowledged-district",
   "metadata": {
    "execution": {
     "iopub.execute_input": "2021-06-07T14:36:10.398409Z",
     "iopub.status.busy": "2021-06-07T14:36:10.397663Z",
     "iopub.status.idle": "2021-06-07T14:36:10.405942Z",
     "shell.execute_reply": "2021-06-07T14:36:10.404995Z",
     "shell.execute_reply.started": "2021-06-07T14:27:10.791349Z"
    },
    "papermill": {
     "duration": 0.06904,
     "end_time": "2021-06-07T14:36:10.406163",
     "exception": false,
     "start_time": "2021-06-07T14:36:10.337123",
     "status": "completed"
    },
    "tags": []
   },
   "outputs": [],
   "source": [
    "r_sq = model.score(X_, y)\n",
    "intercept, coefficients = model.intercept_, model.coef_\n"
   ]
  },
  {
   "cell_type": "code",
   "execution_count": 28,
   "id": "least-aquarium",
   "metadata": {
    "execution": {
     "iopub.execute_input": "2021-06-07T14:36:10.545806Z",
     "iopub.status.busy": "2021-06-07T14:36:10.544673Z",
     "iopub.status.idle": "2021-06-07T14:36:10.550760Z",
     "shell.execute_reply": "2021-06-07T14:36:10.551494Z",
     "shell.execute_reply.started": "2021-06-07T14:27:10.804386Z"
    },
    "papermill": {
     "duration": 0.068558,
     "end_time": "2021-06-07T14:36:10.551742",
     "exception": false,
     "start_time": "2021-06-07T14:36:10.483184",
     "status": "completed"
    },
    "tags": []
   },
   "outputs": [],
   "source": [
    "y_pred = model.predict(X_)"
   ]
  },
  {
   "cell_type": "code",
   "execution_count": 29,
   "id": "substantial-things",
   "metadata": {
    "execution": {
     "iopub.execute_input": "2021-06-07T14:36:10.695495Z",
     "iopub.status.busy": "2021-06-07T14:36:10.694419Z",
     "iopub.status.idle": "2021-06-07T14:36:10.699239Z",
     "shell.execute_reply": "2021-06-07T14:36:10.698592Z",
     "shell.execute_reply.started": "2021-06-07T14:27:10.815252Z"
    },
    "papermill": {
     "duration": 0.070244,
     "end_time": "2021-06-07T14:36:10.699371",
     "exception": false,
     "start_time": "2021-06-07T14:36:10.629127",
     "status": "completed"
    },
    "tags": []
   },
   "outputs": [
    {
     "name": "stdout",
     "output_type": "stream",
     "text": [
      "coefficient of determination: 0.7513467641290756\n",
      "\n",
      "intercept: -4514999054.64413\n",
      "\n",
      "coefficients:\n",
      "[ 1.80008709e+10 -1.69708637e+06 -1.10869174e+06 -1.80008863e+10\n",
      " -2.35737625e+06  1.67483334e+06 -1.18731382e+03 -1.80008743e+10\n",
      " -6.72249870e+06 -2.93936401e+07  1.90741229e+08 -9.34320933e+00\n",
      "  1.78716646e+01 -6.08551145e+00  8.12749553e+00 -1.96824262e+01\n",
      "  5.75355434e+00 -1.12723732e+00  6.08852911e+00  3.31706592e+01\n",
      "  1.71767170e+02  1.27812465e+02  1.38494921e+04  3.24646883e+04\n",
      "  4.96575539e+01  7.59376434e+03 -6.69100781e+04 -4.74186583e+01\n",
      " -3.17972250e+01  7.56957014e+03 -1.75972200e+05  3.62603705e+04\n",
      "  6.94704825e+02 -5.17974281e+00  2.33922812e+03 -1.24626844e+04\n",
      "  9.09470892e+00 -8.94635201e-01  4.71301023e+02 -5.57569452e+04\n",
      "  2.26630057e+04  1.15417266e+00 -1.31977472e+01 -1.95241680e+01\n",
      "  1.14251709e+00  4.48495770e+00  1.81384041e+01 -1.62595034e+00\n",
      "  1.88599213e+02  1.38249489e+03  9.56568311e+03  2.17459030e+01\n",
      " -6.49039745e+00  1.21627284e+04 -5.63118404e+04  4.79316064e+04\n",
      "  1.65858537e+04 -2.33032134e+01  2.52763691e+01  8.37280324e+03\n",
      "  6.88920796e+04 -3.52625398e+04  1.62658691e-02  1.11344028e+00\n",
      " -1.83987668e+01  1.68201648e+02  2.96351008e+01  3.24905396e+00\n",
      "  1.50313296e+01  1.73393344e+02 -6.09150925e+01 -2.30439216e+03\n",
      " -1.16847680e+05  1.41636228e+05 -2.93936401e+07  1.25153657e+06\n",
      " -2.01442434e+06]\n",
      "\n",
      "predicted response:\n",
      "[349624.17693806 559219.45287991 447625.37588692 ... 418867.40138435\n",
      " 459705.37566185 418815.63721561]\n"
     ]
    }
   ],
   "source": [
    "print('coefficient of determination:', r_sq)\n",
    "print()\n",
    "print('intercept:', intercept)\n",
    "print()\n",
    "print('coefficients:', coefficients, sep='\\n')\n",
    "print()\n",
    "print('predicted response:', y_pred, sep='\\n')"
   ]
  },
  {
   "cell_type": "markdown",
   "id": "traditional-stevens",
   "metadata": {
    "papermill": {
     "duration": 0.043158,
     "end_time": "2021-06-07T14:36:10.785862",
     "exception": false,
     "start_time": "2021-06-07T14:36:10.742704",
     "status": "completed"
    },
    "tags": []
   },
   "source": [
    "# Question 9) Create and fit a Ridge regression object using the training data, setting the regularization parameter to 0.1 and calculate the R^2 using the test data. Take a screenshot for your code and the R^2"
   ]
  },
  {
   "cell_type": "code",
   "execution_count": 30,
   "id": "recorded-burner",
   "metadata": {
    "execution": {
     "iopub.execute_input": "2021-06-07T14:36:10.877960Z",
     "iopub.status.busy": "2021-06-07T14:36:10.877214Z",
     "iopub.status.idle": "2021-06-07T14:36:10.949055Z",
     "shell.execute_reply": "2021-06-07T14:36:10.948292Z",
     "shell.execute_reply.started": "2021-06-07T14:27:10.830504Z"
    },
    "papermill": {
     "duration": 0.119506,
     "end_time": "2021-06-07T14:36:10.949198",
     "exception": false,
     "start_time": "2021-06-07T14:36:10.829692",
     "status": "completed"
    },
    "tags": []
   },
   "outputs": [],
   "source": [
    "from sklearn.linear_model import Ridge\n",
    "from sklearn.datasets import make_regression\n"
   ]
  },
  {
   "cell_type": "code",
   "execution_count": 31,
   "id": "chronic-catalyst",
   "metadata": {
    "execution": {
     "iopub.execute_input": "2021-06-07T14:36:11.053333Z",
     "iopub.status.busy": "2021-06-07T14:36:11.052562Z",
     "iopub.status.idle": "2021-06-07T14:36:11.057119Z",
     "shell.execute_reply": "2021-06-07T14:36:11.056491Z",
     "shell.execute_reply.started": "2021-06-07T14:29:17.611449Z"
    },
    "papermill": {
     "duration": 0.060746,
     "end_time": "2021-06-07T14:36:11.057250",
     "exception": false,
     "start_time": "2021-06-07T14:36:10.996504",
     "status": "completed"
    },
    "tags": []
   },
   "outputs": [],
   "source": [
    "X = np.array(house[['sqft_living','floors','bedrooms','sqft_basement','view','bathrooms','sqft_living15',\n",
    "                    'sqft_above','grade','waterfront','lat']])\n",
    "y = np.array(house.price)\n"
   ]
  },
  {
   "cell_type": "code",
   "execution_count": 32,
   "id": "copyrighted-relief",
   "metadata": {
    "execution": {
     "iopub.execute_input": "2021-06-07T14:36:11.152052Z",
     "iopub.status.busy": "2021-06-07T14:36:11.151451Z",
     "iopub.status.idle": "2021-06-07T14:36:11.155099Z",
     "shell.execute_reply": "2021-06-07T14:36:11.154460Z",
     "shell.execute_reply.started": "2021-06-07T14:29:18.618715Z"
    },
    "papermill": {
     "duration": 0.053835,
     "end_time": "2021-06-07T14:36:11.155231",
     "exception": false,
     "start_time": "2021-06-07T14:36:11.101396",
     "status": "completed"
    },
    "tags": []
   },
   "outputs": [],
   "source": [
    "X, y, coefficients = make_regression(\n",
    "    n_samples=50,\n",
    "    n_features=1,\n",
    "    n_informative=1,\n",
    "    n_targets=1,\n",
    "    noise=5,\n",
    "    coef=True,\n",
    "    random_state=1)"
   ]
  },
  {
   "cell_type": "code",
   "execution_count": 33,
   "id": "shared-skill",
   "metadata": {
    "execution": {
     "iopub.execute_input": "2021-06-07T14:36:11.253597Z",
     "iopub.status.busy": "2021-06-07T14:36:11.252995Z",
     "iopub.status.idle": "2021-06-07T14:36:11.256341Z",
     "shell.execute_reply": "2021-06-07T14:36:11.255818Z",
     "shell.execute_reply.started": "2021-06-07T14:29:19.814365Z"
    },
    "papermill": {
     "duration": 0.055786,
     "end_time": "2021-06-07T14:36:11.256473",
     "exception": false,
     "start_time": "2021-06-07T14:36:11.200687",
     "status": "completed"
    },
    "tags": []
   },
   "outputs": [],
   "source": [
    "rr = Ridge(alpha=0.1)\n",
    "rr.fit(X, y)\n",
    "w = rr.coef_"
   ]
  },
  {
   "cell_type": "code",
   "execution_count": 34,
   "id": "expected-triangle",
   "metadata": {
    "execution": {
     "iopub.execute_input": "2021-06-07T14:36:11.350211Z",
     "iopub.status.busy": "2021-06-07T14:36:11.349613Z",
     "iopub.status.idle": "2021-06-07T14:36:11.353647Z",
     "shell.execute_reply": "2021-06-07T14:36:11.353088Z",
     "shell.execute_reply.started": "2021-06-07T14:29:20.698284Z"
    },
    "papermill": {
     "duration": 0.052286,
     "end_time": "2021-06-07T14:36:11.353769",
     "exception": false,
     "start_time": "2021-06-07T14:36:11.301483",
     "status": "completed"
    },
    "tags": []
   },
   "outputs": [
    {
     "data": {
      "text/plain": [
       "array([89.06914837])"
      ]
     },
     "execution_count": 34,
     "metadata": {},
     "output_type": "execute_result"
    }
   ],
   "source": [
    "w"
   ]
  },
  {
   "cell_type": "code",
   "execution_count": 35,
   "id": "smooth-plasma",
   "metadata": {
    "execution": {
     "iopub.execute_input": "2021-06-07T14:36:11.448186Z",
     "iopub.status.busy": "2021-06-07T14:36:11.447162Z",
     "iopub.status.idle": "2021-06-07T14:36:11.451534Z",
     "shell.execute_reply": "2021-06-07T14:36:11.450962Z",
     "shell.execute_reply.started": "2021-06-07T14:29:21.810864Z"
    },
    "papermill": {
     "duration": 0.053255,
     "end_time": "2021-06-07T14:36:11.451659",
     "exception": false,
     "start_time": "2021-06-07T14:36:11.398404",
     "status": "completed"
    },
    "tags": []
   },
   "outputs": [
    {
     "data": {
      "text/plain": [
       "array(90.34019153)"
      ]
     },
     "execution_count": 35,
     "metadata": {},
     "output_type": "execute_result"
    }
   ],
   "source": [
    "coefficients"
   ]
  },
  {
   "cell_type": "code",
   "execution_count": 36,
   "id": "noble-lounge",
   "metadata": {
    "execution": {
     "iopub.execute_input": "2021-06-07T14:36:11.597165Z",
     "iopub.status.busy": "2021-06-07T14:36:11.579329Z",
     "iopub.status.idle": "2021-06-07T14:36:11.704144Z",
     "shell.execute_reply": "2021-06-07T14:36:11.704649Z",
     "shell.execute_reply.started": "2021-06-07T14:29:22.570587Z"
    },
    "papermill": {
     "duration": 0.20594,
     "end_time": "2021-06-07T14:36:11.704819",
     "exception": false,
     "start_time": "2021-06-07T14:36:11.498879",
     "status": "completed"
    },
    "tags": []
   },
   "outputs": [
    {
     "data": {
      "image/png": "[encoded data removed]",
      "text/plain": [
       "<Figure size 432x288 with 1 Axes>"
      ]
     },
     "metadata": {
      "needs_background": "light"
     },
     "output_type": "display_data"
    }
   ],
   "source": [
    "plt.scatter(X, y)\n",
    "plt.plot(X, w*X, c='red');"
   ]
  },
  {
   "cell_type": "code",
   "execution_count": 37,
   "id": "commercial-forth",
   "metadata": {
    "execution": {
     "iopub.execute_input": "2021-06-07T14:36:11.804859Z",
     "iopub.status.busy": "2021-06-07T14:36:11.804114Z",
     "iopub.status.idle": "2021-06-07T14:36:11.808028Z",
     "shell.execute_reply": "2021-06-07T14:36:11.807467Z",
     "shell.execute_reply.started": "2021-06-07T14:29:23.802664Z"
    },
    "papermill": {
     "duration": 0.05661,
     "end_time": "2021-06-07T14:36:11.808183",
     "exception": false,
     "start_time": "2021-06-07T14:36:11.751573",
     "status": "completed"
    },
    "tags": []
   },
   "outputs": [
    {
     "data": {
      "text/plain": [
       "0.9977857946524787"
      ]
     },
     "execution_count": 37,
     "metadata": {},
     "output_type": "execute_result"
    }
   ],
   "source": [
    "rr.score(X,y)"
   ]
  },
  {
   "cell_type": "markdown",
   "id": "angry-generator",
   "metadata": {
    "papermill": {
     "duration": 0.045453,
     "end_time": "2021-06-07T14:36:11.901802",
     "exception": false,
     "start_time": "2021-06-07T14:36:11.856349",
     "status": "completed"
    },
    "tags": []
   },
   "source": [
    "# Question 10) Perform a second order polynomial transform on both the training data and testing data. Create and fit a Ridge regression object using the training data, setting the regularisation parameter to 0.1. Calculate the R^2 utilising the test data provided. Take a screenshot of your code and the R^2."
   ]
  },
  {
   "cell_type": "code",
   "execution_count": 38,
   "id": "vocational-optimum",
   "metadata": {
    "execution": {
     "iopub.execute_input": "2021-06-07T14:36:12.003642Z",
     "iopub.status.busy": "2021-06-07T14:36:12.002528Z",
     "iopub.status.idle": "2021-06-07T14:36:12.020996Z",
     "shell.execute_reply": "2021-06-07T14:36:12.020476Z",
     "shell.execute_reply.started": "2021-06-07T14:35:28.230309Z"
    },
    "papermill": {
     "duration": 0.073023,
     "end_time": "2021-06-07T14:36:12.021138",
     "exception": false,
     "start_time": "2021-06-07T14:36:11.948115",
     "status": "completed"
    },
    "tags": []
   },
   "outputs": [],
   "source": [
    "X = np.array(house[['sqft_living','floors','bedrooms','sqft_basement','view','bathrooms','sqft_living15',\n",
    "                    'sqft_above','grade','waterfront','lat']])\n",
    "y = np.array(house.price).reshape(-1, 1)\n",
    "X_ = PolynomialFeatures(degree=2, include_bias=False).fit_transform(X)\n",
    "y_ = PolynomialFeatures(degree=2, include_bias=False).fit_transform(y)\n",
    "\n"
   ]
  },
  {
   "cell_type": "code",
   "execution_count": 39,
   "id": "considerable-boulder",
   "metadata": {
    "execution": {
     "iopub.execute_input": "2021-06-07T14:36:12.115064Z",
     "iopub.status.busy": "2021-06-07T14:36:12.114442Z",
     "iopub.status.idle": "2021-06-07T14:36:12.118918Z",
     "shell.execute_reply": "2021-06-07T14:36:12.118407Z",
     "shell.execute_reply.started": "2021-06-07T14:35:29.137832Z"
    },
    "papermill": {
     "duration": 0.053352,
     "end_time": "2021-06-07T14:36:12.119047",
     "exception": false,
     "start_time": "2021-06-07T14:36:12.065695",
     "status": "completed"
    },
    "tags": []
   },
   "outputs": [],
   "source": [
    "X_, y_, coefficients = make_regression(\n",
    "    n_samples=50,\n",
    "    n_features=1,\n",
    "    n_informative=1,\n",
    "    n_targets=1,\n",
    "    noise=5,\n",
    "    coef=True,\n",
    "    random_state=1)"
   ]
  },
  {
   "cell_type": "code",
   "execution_count": 40,
   "id": "boolean-birthday",
   "metadata": {
    "execution": {
     "iopub.execute_input": "2021-06-07T14:36:12.213288Z",
     "iopub.status.busy": "2021-06-07T14:36:12.212687Z",
     "iopub.status.idle": "2021-06-07T14:36:12.216422Z",
     "shell.execute_reply": "2021-06-07T14:36:12.216988Z",
     "shell.execute_reply.started": "2021-06-07T14:35:30.026533Z"
    },
    "papermill": {
     "duration": 0.053516,
     "end_time": "2021-06-07T14:36:12.217135",
     "exception": false,
     "start_time": "2021-06-07T14:36:12.163619",
     "status": "completed"
    },
    "tags": []
   },
   "outputs": [
    {
     "data": {
      "text/plain": [
       "array([89.06914837])"
      ]
     },
     "execution_count": 40,
     "metadata": {},
     "output_type": "execute_result"
    }
   ],
   "source": [
    "rr_poly = Ridge(alpha=0.1)\n",
    "rr_poly.fit(X_, y_)\n",
    "w = rr_poly.coef_\n",
    "w"
   ]
  },
  {
   "cell_type": "code",
   "execution_count": 41,
   "id": "european-zimbabwe",
   "metadata": {
    "execution": {
     "iopub.execute_input": "2021-06-07T14:36:12.310050Z",
     "iopub.status.busy": "2021-06-07T14:36:12.309451Z",
     "iopub.status.idle": "2021-06-07T14:36:12.314705Z",
     "shell.execute_reply": "2021-06-07T14:36:12.315266Z",
     "shell.execute_reply.started": "2021-06-07T14:35:30.817805Z"
    },
    "papermill": {
     "duration": 0.053464,
     "end_time": "2021-06-07T14:36:12.315433",
     "exception": false,
     "start_time": "2021-06-07T14:36:12.261969",
     "status": "completed"
    },
    "tags": []
   },
   "outputs": [
    {
     "data": {
      "text/plain": [
       "0.9977857946524787"
      ]
     },
     "execution_count": 41,
     "metadata": {},
     "output_type": "execute_result"
    }
   ],
   "source": [
    "rr.score(X_,y_)"
   ]
  }
 ],
 "metadata": {
  "kernelspec": {
   "display_name": "Python 3",
   "language": "python",
   "name": "python3"
  },
  "language_info": {
   "codemirror_mode": {
    "name": "ipython",
    "version": 3
   },
   "file_extension": ".py",
   "mimetype": "text/x-python",
   "name": "python",
   "nbconvert_exporter": "python",
   "pygments_lexer": "ipython3",
   "version": "3.7.9"
  },
  "papermill": {
   "default_parameters": {},
   "duration": 15.851744,
   "end_time": "2021-06-07T14:36:13.987441",
   "environment_variables": {},
   "exception": null,
   "input_path": "__notebook__.ipynb",
   "output_path": "__notebook__.ipynb",
   "parameters": {},
   "start_time": "2021-06-07T14:35:58.135697",
   "version": "2.3.2"
  }
 },
 "nbformat": 4,
 "nbformat_minor": 5
}
